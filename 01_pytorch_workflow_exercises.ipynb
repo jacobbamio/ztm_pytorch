{
  "nbformat": 4,
  "nbformat_minor": 0,
  "metadata": {
    "colab": {
      "name": "01_pytorch_workflow_exercises.ipynb",
      "provenance": []
    },
    "kernelspec": {
      "name": "python3",
      "display_name": "Python 3"
    },
    "language_info": {
      "name": "python"
    },
    "accelerator": "GPU"
  },
  "cells": [
    {
      "cell_type": "markdown",
      "source": [
        "# 01. PyTorch Workflow Exercise Template\n",
        "\n",
        "The following is a template for the PyTorch workflow exercises.\n",
        "\n",
        "It's only starter code and it's your job to fill in the blanks.\n",
        "\n",
        "Because of the flexibility of PyTorch, there may be more than one way to answer the question.\n",
        "\n",
        "Don't worry about trying to be *right* just try writing code that suffices the question.\n",
        "\n",
        "You can see one form of [solutions on GitHub](https://github.com/mrdbourke/pytorch-deep-learning/tree/main/extras/solutions) (but try the exercises below yourself first!)."
      ],
      "metadata": {
        "id": "N8LsPXZti9Sw"
      }
    },
    {
      "cell_type": "code",
      "source": [
        "# Import necessary libraries\n",
        "import torch\n",
        "from torch import nn\n",
        "import matplotlib.pyplot as plt"
      ],
      "metadata": {
        "id": "Glu2fM4dkNlx"
      },
      "execution_count": 12,
      "outputs": []
    },
    {
      "cell_type": "code",
      "source": [
        "# Setup device-agnostic code\n",
        "device = \"cuda\" if torch.cuda.is_available() else \"cpu\"\n",
        "device"
      ],
      "metadata": {
        "id": "LqKhXY26m31s",
        "outputId": "5345a471-d640-495f-8dbb-239d0473efc9",
        "colab": {
          "base_uri": "https://localhost:8080/",
          "height": 35
        }
      },
      "execution_count": 8,
      "outputs": [
        {
          "output_type": "execute_result",
          "data": {
            "text/plain": [
              "'cuda'"
            ],
            "application/vnd.google.colaboratory.intrinsic+json": {
              "type": "string"
            }
          },
          "metadata": {},
          "execution_count": 8
        }
      ]
    },
    {
      "cell_type": "markdown",
      "source": [
        "## 1. Create a straight line dataset using the linear regression formula (`weight * X + bias`).\n",
        "  * Set `weight=0.3` and `bias=0.9` there should be at least 100 datapoints total.\n",
        "  * Split the data into 80% training, 20% testing.\n",
        "  * Plot the training and testing data so it becomes visual.\n",
        "\n",
        "Your output of the below cell should look something like:\n",
        "```\n",
        "Number of X samples: 100\n",
        "Number of y samples: 100\n",
        "First 10 X & y samples:\n",
        "X: tensor([0.0000, 0.0100, 0.0200, 0.0300, 0.0400, 0.0500, 0.0600, 0.0700, 0.0800,\n",
        "        0.0900])\n",
        "y: tensor([0.9000, 0.9030, 0.9060, 0.9090, 0.9120, 0.9150, 0.9180, 0.9210, 0.9240,\n",
        "        0.9270])\n",
        "```\n",
        "\n",
        "Of course the numbers in `X` and `y` may be different but ideally they're created using the linear regression formula."
      ],
      "metadata": {
        "id": "g7HUhxCxjeBx"
      }
    },
    {
      "cell_type": "code",
      "source": [
        "# Create the data parameters\n",
        "weight = 0.3\n",
        "bias = 0.9\n",
        "start = 0\n",
        "stop = 1\n",
        "step = 0.01\n",
        "\n",
        "# Make X and y using linear regression feature\n",
        "X = torch.arange(start, stop, step).unsqueeze(dim=1)\n",
        "y = weight * X + bias\n",
        "\n",
        "\n",
        "print(f\"Number of X samples: {len(X)}\")\n",
        "print(f\"Number of y samples: {len(y)}\")\n",
        "print(f\"First 10 X & y samples:\\nX: {X[:10]}\\ny: {y[:10]}\")"
      ],
      "metadata": {
        "id": "KbDG5MV7jhvE",
        "outputId": "f2a81ac0-db2f-477b-a09e-e71330e5026c",
        "colab": {
          "base_uri": "https://localhost:8080/"
        }
      },
      "execution_count": 67,
      "outputs": [
        {
          "output_type": "stream",
          "name": "stdout",
          "text": [
            "Number of X samples: 100\n",
            "Number of y samples: 100\n",
            "First 10 X & y samples:\n",
            "X: tensor([[0.0000],\n",
            "        [0.0100],\n",
            "        [0.0200],\n",
            "        [0.0300],\n",
            "        [0.0400],\n",
            "        [0.0500],\n",
            "        [0.0600],\n",
            "        [0.0700],\n",
            "        [0.0800],\n",
            "        [0.0900]])\n",
            "y: tensor([[0.9000],\n",
            "        [0.9030],\n",
            "        [0.9060],\n",
            "        [0.9090],\n",
            "        [0.9120],\n",
            "        [0.9150],\n",
            "        [0.9180],\n",
            "        [0.9210],\n",
            "        [0.9240],\n",
            "        [0.9270]])\n"
          ]
        }
      ]
    },
    {
      "cell_type": "code",
      "source": [
        "# Split the data into training and testing\n",
        "split_size = int(0.8 * len(X))\n",
        "X_train, y_train = X[:split_size], y[:split_size]\n",
        "X_test, y_test = X[split_size:], y[split_size:]\n",
        "\n",
        "len(X_train), len(y_train), len(X_test), len(y_test)"
      ],
      "metadata": {
        "id": "GlwtT1djkmLw",
        "outputId": "77ebf3e7-90ab-4e5e-ab5f-335da5f60fa4",
        "colab": {
          "base_uri": "https://localhost:8080/"
        }
      },
      "execution_count": 68,
      "outputs": [
        {
          "output_type": "execute_result",
          "data": {
            "text/plain": [
              "(80, 80, 20, 20)"
            ]
          },
          "metadata": {},
          "execution_count": 68
        }
      ]
    },
    {
      "cell_type": "code",
      "source": [
        "def plot_predictions(train_data=X_train,\n",
        "                     train_labels=y_train,\n",
        "                     test_data=X_test,\n",
        "                     test_labels=y_test,\n",
        "                     predictions=None):\n",
        "  \"\"\"\n",
        "  Plots training data, test data and compares predictions.\n",
        "  \"\"\"\n",
        "  plt.figure(figsize=(10, 7))\n",
        "\n",
        "  # Plot training data in blue\n",
        "  plt.scatter(train_data, train_labels, c=\"b\", s=4, label=\"Training data\")\n",
        "\n",
        "  # Plot test data in green\n",
        "  plt.scatter(test_data, test_labels, c=\"g\", s=4, label=\"Testing data\")\n",
        "\n",
        "  if predictions is not None:\n",
        "    # Plot the predictions in red (predictions were made on the test data)\n",
        "    plt.scatter(test_data, predictions, c=\"r\", s=4, label=\"Predictions\")\n",
        "\n",
        "  # Show the legend\n",
        "  plt.legend(prop={\"size\": 14});"
      ],
      "metadata": {
        "id": "NxHQhkDhedn1"
      },
      "execution_count": 69,
      "outputs": []
    },
    {
      "cell_type": "code",
      "source": [
        "# Plot the training and testing data\n",
        "def plot_predictions(train_data = X_train,\n",
        "                     train_labels = y_train,\n",
        "                     test_data = X_test,\n",
        "                     test_labels = y_test,\n",
        "                     predictions = None):\n",
        "\n",
        "  plt.figure(figsize = (8,5))\n",
        "  plt.scatter(train_data, train_labels, c=\"b\", s=6, label=\"Training data\")\n",
        "  plt.scatter(test_data, test_labels, c=\"g\", s=6, label=\"Testing data\")\n",
        "\n",
        "  if predictions is not None:\n",
        "    plt.scatter(test_data, predictions, c=\"r\", s=6, label=\"Predictions\")\n",
        "\n",
        "  plt.legend(prop={\"size\" : 10})\n",
        "\n",
        "plot_predictions(X_train, y_train, X_test, y_test)"
      ],
      "metadata": {
        "id": "29iQZFNhlYJ-",
        "outputId": "fd3d0f04-530d-447c-f20c-70a1f1feb2e4",
        "colab": {
          "base_uri": "https://localhost:8080/",
          "height": 445
        }
      },
      "execution_count": 70,
      "outputs": [
        {
          "output_type": "display_data",
          "data": {
            "text/plain": [
              "<Figure size 800x500 with 1 Axes>"
            ],
            "image/png": "[encoded data removed]"
          },
          "metadata": {}
        }
      ]
    },
    {
      "cell_type": "markdown",
      "source": [
        "## 2. Build a PyTorch model by subclassing `nn.Module`.\n",
        "  * Inside should be a randomly initialized `nn.Parameter()` with `requires_grad=True`, one for `weights` and one for `bias`.\n",
        "  * Implement the `forward()` method to compute the linear regression function you used to create the dataset in 1.\n",
        "  * Once you've constructed the model, make an instance of it and check its `state_dict()`.\n",
        "  * **Note:** If you'd like to use `nn.Linear()` instead of `nn.Parameter()` you can."
      ],
      "metadata": {
        "id": "ImZoe3v8jif8"
      }
    },
    {
      "cell_type": "code",
      "source": [
        "# Create PyTorch linear regression model by subclassing nn.Module\n",
        "class MyLinearRegressionModelV1(nn.Module):\n",
        "  def __init__(self):\n",
        "    super().__init__()\n",
        "    self.weights = nn.Parameter(torch.randn(1, dtype=torch.float).unsqueeze(dim=1),\n",
        "                                requires_grad = True)\n",
        "    self.bias =  nn.Parameter(torch.randn(1, dtype=torch.float),\n",
        "                              requires_grad = True)\n",
        "\n",
        "  def forward(self, x: torch.Tensor) -> torch.Tensor:\n",
        "    return self.weights * x + self.bias\n",
        "\n",
        "class MyLinearRegressionModelV2(nn.Module):\n",
        "  def __init__(self):\n",
        "    super().__init__()\n",
        "    self.linear_layer = nn.Linear(in_features=1,\n",
        "                                  out_features=1)\n",
        "  def forward(self, x: torch.Tensor) -> torch.Tensor:\n",
        "    return self.linear_layer(x)"
      ],
      "metadata": {
        "id": "qzd__Y5rjtB8"
      },
      "execution_count": 71,
      "outputs": []
    },
    {
      "cell_type": "code",
      "source": [
        "# Instantiate the model and put it to the target device\n",
        "model_v1 = MyLinearRegressionModelV1().to(device)\n",
        "model_v2 = MyLinearRegressionModelV2().to(device)"
      ],
      "metadata": {
        "id": "5LdcDnmOmyQ2"
      },
      "execution_count": 108,
      "outputs": []
    },
    {
      "cell_type": "code",
      "source": [
        "next(model_v1.parameters()).device, next(model_v2.parameters()).device"
      ],
      "metadata": {
        "id": "7Tq3-i5hhaPj",
        "outputId": "31440563-fdff-4ddb-bf0a-1b6a449cb877",
        "colab": {
          "base_uri": "https://localhost:8080/"
        }
      },
      "execution_count": 109,
      "outputs": [
        {
          "output_type": "execute_result",
          "data": {
            "text/plain": [
              "(device(type='cuda', index=0), device(type='cuda', index=0))"
            ]
          },
          "metadata": {},
          "execution_count": 109
        }
      ]
    },
    {
      "cell_type": "code",
      "source": [
        "model_v1.state_dict(), model_v2.state_dict()"
      ],
      "metadata": {
        "id": "ceHl7W-qluRQ",
        "outputId": "611905fa-46fa-4ef2-bdec-8bcefb1782ad",
        "colab": {
          "base_uri": "https://localhost:8080/"
        }
      },
      "execution_count": 110,
      "outputs": [
        {
          "output_type": "execute_result",
          "data": {
            "text/plain": [
              "(OrderedDict([('weights', tensor([[0.3367]], device='cuda:0')),\n",
              "              ('bias', tensor([0.1288], device='cuda:0'))]),\n",
              " OrderedDict([('linear_layer.weight', tensor([[-0.2191]], device='cuda:0')),\n",
              "              ('linear_layer.bias', tensor([0.2018], device='cuda:0'))]))"
            ]
          },
          "metadata": {},
          "execution_count": 110
        }
      ]
    },
    {
      "cell_type": "markdown",
      "source": [
        "## 3. Create a loss function and optimizer using `nn.L1Loss()` and `torch.optim.SGD(params, lr)` respectively.\n",
        "  * Set the learning rate of the optimizer to be 0.01 and the parameters to optimize should be the model parameters from the model you created in 2.\n",
        "  * Write a training loop to perform the appropriate training steps for 300 epochs.\n",
        "  * The training loop should test the model on the test dataset every 20 epochs."
      ],
      "metadata": {
        "id": "G6nYOrJhjtfu"
      }
    },
    {
      "cell_type": "code",
      "source": [
        "# Create the loss function and optimizer\n",
        "loss_fn = nn.L1Loss()\n",
        "optimizer_v1 = torch.optim.SGD(model_v1.parameters(),\n",
        "                               lr = 0.01)\n",
        "optimizer_v2 = torch.optim.SGD(model_v2.parameters(),\n",
        "                               lr = 0.01)"
      ],
      "metadata": {
        "id": "ltvoZ-FWjv1j"
      },
      "execution_count": 111,
      "outputs": []
    },
    {
      "cell_type": "code",
      "source": [
        "# Training loop\n",
        "torch.manual_seed(42)\n",
        "\n",
        "# Train model for 300 epochs\n",
        "epochs = 300\n",
        "\n",
        "# Send data to target device\n",
        "X_train = X_train.to(device)\n",
        "y_train = y_train.to(device)\n",
        "X_test = X_test.to(device)\n",
        "y_test = y_test.to(device)\n",
        "\n",
        "for epoch in range(epochs):\n",
        "  ### Training\n",
        "\n",
        "  # Put model in train mode\n",
        "  model_v1.train()\n",
        "  model_v2.train()\n",
        "\n",
        "  # 1. Forward pass\n",
        "  y_pred_v1 = model_v1(X_train)\n",
        "  y_pred_v2 = model_v2(X_train)\n",
        "\n",
        "  # 2. Calculate loss\n",
        "  loss_v1 = loss_fn(y_pred_v1, y_train)\n",
        "  loss_v2 = loss_fn(y_pred_v2, y_train)\n",
        "\n",
        "  # 3. Zero gradients\n",
        "  optimizer_v1.zero_grad()\n",
        "  optimizer_v2.zero_grad()\n",
        "\n",
        "  # 4. Backpropagation\n",
        "  loss_v1.backward()\n",
        "  loss_v2.backward()\n",
        "\n",
        "  # 5. Step the optimizer\n",
        "  optimizer_v1.step()\n",
        "  optimizer_v2.step()\n",
        "\n",
        "  ### Perform testing every 20 epochs\n",
        "  if epoch % 20 == 0:\n",
        "\n",
        "    # Put model in evaluation mode and setup inference context\n",
        "    model_v1.eval()\n",
        "    model_v2.eval()\n",
        "\n",
        "    # 1. Forward pass\n",
        "    with torch.inference_mode():\n",
        "      test_pred_v1 = model_v1(X_test)\n",
        "      test_pred_v2 = model_v2(X_test)\n",
        "    # 2. Calculate test loss\n",
        "      test_loss_v1 = loss_fn(test_pred_v1, y_test)\n",
        "      test_loss_v2 = loss_fn(test_pred_v2, y_test)\n",
        "\n",
        "    # Print out what's happening\n",
        "    print(f\"Epoch: {epoch} | Train loss V1: {loss_v1:.3f} | Test loss V1: {test_loss_v1:.3f}\")\n",
        "    print(f\"Epoch: {epoch} | Train loss V2: {loss_v2:.3f} | Test loss V2: {test_loss_v2:.3f}\")"
      ],
      "metadata": {
        "id": "xpE83NvNnkdV",
        "outputId": "413b20a3-8621-4433-b98a-c9cc89a095e5",
        "colab": {
          "base_uri": "https://localhost:8080/"
        }
      },
      "execution_count": 112,
      "outputs": [
        {
          "output_type": "stream",
          "name": "stdout",
          "text": [
            "Epoch: 0 | Train loss V1: 0.757 | Test loss V1: 0.725\n",
            "Epoch: 0 | Train loss V2: 0.903 | Test loss V2: 1.149\n",
            "Epoch: 20 | Train loss V1: 0.525 | Test loss V1: 0.454\n",
            "Epoch: 20 | Train loss V2: 0.672 | Test loss V2: 0.879\n",
            "Epoch: 40 | Train loss V1: 0.294 | Test loss V1: 0.183\n",
            "Epoch: 40 | Train loss V2: 0.441 | Test loss V2: 0.608\n",
            "Epoch: 60 | Train loss V1: 0.077 | Test loss V1: 0.073\n",
            "Epoch: 60 | Train loss V2: 0.210 | Test loss V2: 0.337\n",
            "Epoch: 80 | Train loss V1: 0.053 | Test loss V1: 0.116\n",
            "Epoch: 80 | Train loss V2: 0.044 | Test loss V2: 0.119\n",
            "Epoch: 100 | Train loss V1: 0.046 | Test loss V1: 0.105\n",
            "Epoch: 100 | Train loss V2: 0.033 | Test loss V2: 0.077\n",
            "Epoch: 120 | Train loss V1: 0.039 | Test loss V1: 0.089\n",
            "Epoch: 120 | Train loss V2: 0.026 | Test loss V2: 0.061\n",
            "Epoch: 140 | Train loss V1: 0.032 | Test loss V1: 0.074\n",
            "Epoch: 140 | Train loss V2: 0.019 | Test loss V2: 0.045\n",
            "Epoch: 160 | Train loss V1: 0.025 | Test loss V1: 0.058\n",
            "Epoch: 160 | Train loss V2: 0.012 | Test loss V2: 0.028\n",
            "Epoch: 180 | Train loss V1: 0.018 | Test loss V1: 0.042\n",
            "Epoch: 180 | Train loss V2: 0.006 | Test loss V2: 0.012\n",
            "Epoch: 200 | Train loss V1: 0.011 | Test loss V1: 0.026\n",
            "Epoch: 200 | Train loss V2: 0.006 | Test loss V2: 0.004\n",
            "Epoch: 220 | Train loss V1: 0.004 | Test loss V1: 0.009\n",
            "Epoch: 220 | Train loss V2: 0.006 | Test loss V2: 0.004\n",
            "Epoch: 240 | Train loss V1: 0.004 | Test loss V1: 0.006\n",
            "Epoch: 240 | Train loss V2: 0.006 | Test loss V2: 0.004\n",
            "Epoch: 260 | Train loss V1: 0.004 | Test loss V1: 0.006\n",
            "Epoch: 260 | Train loss V2: 0.006 | Test loss V2: 0.004\n",
            "Epoch: 280 | Train loss V1: 0.004 | Test loss V1: 0.006\n",
            "Epoch: 280 | Train loss V2: 0.006 | Test loss V2: 0.004\n"
          ]
        }
      ]
    },
    {
      "cell_type": "markdown",
      "source": [
        "## 4. Make predictions with the trained model on the test data.\n",
        "  * Visualize these predictions against the original training and testing data (**note:** you may need to make sure the predictions are *not* on the GPU if you want to use non-CUDA-enabled libraries such as matplotlib to plot)."
      ],
      "metadata": {
        "id": "x4j4TM18jwa7"
      }
    },
    {
      "cell_type": "code",
      "source": [
        "# Make predictions with the model\n",
        "model_v1.eval()\n",
        "model_v2.eval()\n",
        "with torch.inference_mode():\n",
        "  y_preds_v1 = model_v1(X_test)\n",
        "  y_preds_v2 = model_v2(X_test)\n",
        "\n",
        "y_preds_v1, y_preds_v2"
      ],
      "metadata": {
        "id": "bbMPK5Qjjyx_",
        "outputId": "a65a8e9d-805f-4e10-8ae1-423bb2843ce3",
        "colab": {
          "base_uri": "https://localhost:8080/"
        }
      },
      "execution_count": 113,
      "outputs": [
        {
          "output_type": "execute_result",
          "data": {
            "text/plain": [
              "(tensor([[1.1464],\n",
              "         [1.1495],\n",
              "         [1.1525],\n",
              "         [1.1556],\n",
              "         [1.1587],\n",
              "         [1.1617],\n",
              "         [1.1648],\n",
              "         [1.1679],\n",
              "         [1.1709],\n",
              "         [1.1740],\n",
              "         [1.1771],\n",
              "         [1.1801],\n",
              "         [1.1832],\n",
              "         [1.1863],\n",
              "         [1.1893],\n",
              "         [1.1924],\n",
              "         [1.1955],\n",
              "         [1.1985],\n",
              "         [1.2016],\n",
              "         [1.2047]], device='cuda:0'),\n",
              " tensor([[1.1313],\n",
              "         [1.1342],\n",
              "         [1.1371],\n",
              "         [1.1401],\n",
              "         [1.1430],\n",
              "         [1.1459],\n",
              "         [1.1489],\n",
              "         [1.1518],\n",
              "         [1.1547],\n",
              "         [1.1577],\n",
              "         [1.1606],\n",
              "         [1.1635],\n",
              "         [1.1665],\n",
              "         [1.1694],\n",
              "         [1.1723],\n",
              "         [1.1753],\n",
              "         [1.1782],\n",
              "         [1.1811],\n",
              "         [1.1840],\n",
              "         [1.1870]], device='cuda:0'))"
            ]
          },
          "metadata": {},
          "execution_count": 113
        }
      ]
    },
    {
      "cell_type": "code",
      "source": [
        "# Plot the predictions (these may need to be on a specific device)\n",
        "plot_predictions(test_data = X_test.cpu(),\n",
        "                 predictions = y_preds_v1.cpu())\n",
        "\n",
        "plot_predictions(test_data = X_test.cpu(),\n",
        "                 predictions = y_preds_v2.cpu())"
      ],
      "metadata": {
        "id": "K3BdmQaDpFo8",
        "outputId": "9664175f-7da1-43cd-e8d2-8e149eb3645a",
        "colab": {
          "base_uri": "https://localhost:8080/",
          "height": 873
        }
      },
      "execution_count": 114,
      "outputs": [
        {
          "output_type": "display_data",
          "data": {
            "text/plain": [
              "<Figure size 800x500 with 1 Axes>"
            ],
            "image/png": "[encoded data removed]"
          },
          "metadata": {}
        },
        {
          "output_type": "display_data",
          "data": {
            "text/plain": [
              "<Figure size 800x500 with 1 Axes>"
            ],
            "image/png": "[encoded data removed]"
          },
          "metadata": {}
        }
      ]
    },
    {
      "cell_type": "markdown",
      "source": [
        "## 5. Save your trained model's `state_dict()` to file.\n",
        "  * Create a new instance of your model class you made in 2. and load in the `state_dict()` you just saved to it.\n",
        "  * Perform predictions on your test data with the loaded model and confirm they match the original model predictions from 4."
      ],
      "metadata": {
        "id": "s2OnlMWKjzX8"
      }
    },
    {
      "cell_type": "code",
      "source": [
        "from pathlib import Path\n",
        "\n",
        "# 1. Create models directory\n",
        "MODEL_PATH = Path(\"models\")\n",
        "MODEL_PATH.mkdir(parents=True, exist_ok=True)\n",
        "\n",
        "# 2. Create model save path\n",
        "MODEL_V1_NAME = \"01_pytorch_workflow_model_v1.pth\"\n",
        "MODEL_V2_NAME = \"01_pytorch_workflow_model_v2.pth\"\n",
        "\n",
        "MODEL_SAVE_PATH_V1 = MODEL_PATH / MODEL_V1_NAME\n",
        "MODEL_SAVE_PATH_V2 = MODEL_PATH / MODEL_V2_NAME\n",
        "\n",
        "# 3. Save the model state dict\n",
        "print(f\"Saving model V1 to: {MODEL_SAVE_PATH_V1}\")\n",
        "torch.save(obj=model_v1.state_dict(), # only saving the state_dict() only saves the models learned parameters\n",
        "           f=MODEL_SAVE_PATH_V1)\n",
        "print(f\"Saving model V2 to: {MODEL_SAVE_PATH_V2}\")\n",
        "torch.save(obj=model_v2.state_dict(), # only saving the state_dict() only saves the models learned parameters\n",
        "           f=MODEL_SAVE_PATH_V2)"
      ],
      "metadata": {
        "id": "hgxhgD14qr-i",
        "outputId": "5878835e-653c-4e07-f507-bd9d0faddbfb",
        "colab": {
          "base_uri": "https://localhost:8080/"
        }
      },
      "execution_count": 119,
      "outputs": [
        {
          "output_type": "stream",
          "name": "stdout",
          "text": [
            "Saving model V1 to: models/01_pytorch_workflow_model_v1.pth\n",
            "Saving model V2 to: models/01_pytorch_workflow_model_v2.pth\n"
          ]
        }
      ]
    },
    {
      "cell_type": "code",
      "source": [
        "# Create new instance of model and load saved state dict (make sure to put it on the target device)\n",
        "loaded_model_v1 = MyLinearRegressionModelV1()\n",
        "loaded_model_v2 = MyLinearRegressionModelV2()\n",
        "\n",
        "loaded_model_v1.load_state_dict(torch.load(MODEL_SAVE_PATH_V1))\n",
        "loaded_model_v2.load_state_dict(torch.load(MODEL_SAVE_PATH_V2))"
      ],
      "metadata": {
        "id": "P9vTgiLRrJ7T",
        "outputId": "a968f1c9-7d65-4f62-dba7-cf6bafd3118e",
        "colab": {
          "base_uri": "https://localhost:8080/"
        }
      },
      "execution_count": 126,
      "outputs": [
        {
          "output_type": "execute_result",
          "data": {
            "text/plain": [
              "<All keys matched successfully>"
            ]
          },
          "metadata": {},
          "execution_count": 126
        }
      ]
    },
    {
      "cell_type": "code",
      "source": [
        "# Make predictions with loaded model and compare them to the previous\n",
        "loaded_model_v1.to(device).eval()\n",
        "loaded_model_v2.to(device).eval()\n",
        "with torch.inference_mode():\n",
        "  y_preds_v1 = loaded_model_v1(X_test)\n",
        "  y_preds_v2 = loaded_model_v2(X_test)\n",
        "\n",
        "y_preds_v1, y_preds_v2"
      ],
      "metadata": {
        "id": "8UGX3VebrVtI",
        "outputId": "5ee381fe-d9ab-4758-8543-5f3f119b6a8c",
        "colab": {
          "base_uri": "https://localhost:8080/"
        }
      },
      "execution_count": 129,
      "outputs": [
        {
          "output_type": "execute_result",
          "data": {
            "text/plain": [
              "(tensor([[1.1464],\n",
              "         [1.1495],\n",
              "         [1.1525],\n",
              "         [1.1556],\n",
              "         [1.1587],\n",
              "         [1.1617],\n",
              "         [1.1648],\n",
              "         [1.1679],\n",
              "         [1.1709],\n",
              "         [1.1740],\n",
              "         [1.1771],\n",
              "         [1.1801],\n",
              "         [1.1832],\n",
              "         [1.1863],\n",
              "         [1.1893],\n",
              "         [1.1924],\n",
              "         [1.1955],\n",
              "         [1.1985],\n",
              "         [1.2016],\n",
              "         [1.2047]], device='cuda:0'),\n",
              " tensor([[1.1313],\n",
              "         [1.1342],\n",
              "         [1.1371],\n",
              "         [1.1401],\n",
              "         [1.1430],\n",
              "         [1.1459],\n",
              "         [1.1489],\n",
              "         [1.1518],\n",
              "         [1.1547],\n",
              "         [1.1577],\n",
              "         [1.1606],\n",
              "         [1.1635],\n",
              "         [1.1665],\n",
              "         [1.1694],\n",
              "         [1.1723],\n",
              "         [1.1753],\n",
              "         [1.1782],\n",
              "         [1.1811],\n",
              "         [1.1840],\n",
              "         [1.1870]], device='cuda:0'))"
            ]
          },
          "metadata": {},
          "execution_count": 129
        }
      ]
    },
    {
      "cell_type": "code",
      "source": [
        "plot_predictions(test_data = X_test.cpu(),\n",
        "                 predictions = y_preds_v1.cpu())\n",
        "\n",
        "plot_predictions(test_data = X_test.cpu(),\n",
        "                 predictions = y_preds_v2.cpu())"
      ],
      "metadata": {
        "id": "nz10fMOmqTzJ",
        "outputId": "66fe1afd-f042-48d8-9bf4-ce312473f167",
        "colab": {
          "base_uri": "https://localhost:8080/",
          "height": 873
        }
      },
      "execution_count": 130,
      "outputs": [
        {
          "output_type": "display_data",
          "data": {
            "text/plain": [
              "<Figure size 800x500 with 1 Axes>"
            ],
            "image/png": "[encoded data removed]"
          },
          "metadata": {}
        },
        {
          "output_type": "display_data",
          "data": {
            "text/plain": [
              "<Figure size 800x500 with 1 Axes>"
            ],
            "image/png": "[encoded data removed]"
          },
          "metadata": {}
        }
      ]
    }
  ]
}